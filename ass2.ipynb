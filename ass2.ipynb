{
 "cells": [
  {
   "cell_type": "code",
   "execution_count": 48,
   "metadata": {},
   "outputs": [],
   "source": [
    "from PIL import Image, ImageDraw\n",
    "import numpy as np\n",
    "import math\n",
    "from scipy import signal\n",
    "from IPython.display import Image as Imag\n",
    "import ncc\n",
    "import os"
   ]
  },
  {
   "cell_type": "code",
   "execution_count": 7,
   "metadata": {},
   "outputs": [],
   "source": [
    "os.getcwd()\n",
    "os.chdir(\"./faces\")"
   ]
  },
  {
   "cell_type": "code",
   "execution_count": 23,
   "metadata": {},
   "outputs": [],
   "source": [
    "def MakePyramid(image,minsize):\n",
    "    im = image\n",
    "#   Get the x and y   \n",
    "    x,y = im.size\n",
    "    images = []\n",
    "    while (x > minsize) and (y > minsize):\n",
    "        new_img = im.resize((int(x*0.75), int(y*0.75)), Image.BICUBIC)\n",
    "        images.append(new_img)\n",
    "        x *= 0.75\n",
    "        y *= 0.75\n",
    "    return images\n",
    "# makepyramid(\"./fans.jpg\",10)"
   ]
  },
  {
   "cell_type": "code",
   "execution_count": 53,
   "metadata": {},
   "outputs": [],
   "source": [
    "def ShowPyramid(pyramid):\n",
    "     dx = 0\n",
    "     dy = 0\n",
    "     max_height = max([image.size[1] for image in pyramid])\n",
    "     max_width = sum([image.size[0] for image in pyramid])\n",
    "     new_image = Image.new(\"L\", (max_width, max_height))    \n",
    "     for im in pyramid:\n",
    "        new_image.paste(im,(dx,dy))\n",
    "        dx += im.size[0]\n",
    "     new_image.show()\n",
    "     \n",
    "# ShowPyramid(makepyramid(\"./faces/fans.jpg\",15))    \n",
    "     \n",
    "    "
   ]
  },
  {
   "cell_type": "code",
   "execution_count": 135,
   "metadata": {},
   "outputs": [],
   "source": [
    "def FindTemplate(pyramid,template,threshold):\n",
    "#   minimum possible template size.reduced template width as NCC is expensive\n",
    "    template_w = 15\n",
    "#   resize template to \n",
    "    scale = template.size[0]/template_w\n",
    "    template = template.resize((template_w, template.size[1]//scale), Image.BICUBIC)\n",
    "#   image must support color  \n",
    "    x,y = template.size\n",
    "    img = pyramid[0].convert('RGB')\n",
    "#   loop over images in pyramid and get \n",
    "    for im in pyramid:\n",
    "#       get all the pixels that are above threshold\n",
    "        thresh = np.where(ncc.normxcorr2D(im, template) > threshold)\n",
    "#       For each pixel at which the normalized correlation result \n",
    "#       is above the threshold, draw rectangle\n",
    "        for i in range(len(thresh[1])):\n",
    "                template_x = x/2\n",
    "                template_y = y/2\n",
    "                x1=thresh[1][i]-template_x\n",
    "                y1=thresh[0][i]-template_y\n",
    "                x2=thresh[1][i]+template_x\n",
    "                y2=thresh[0][i]+template_y\n",
    "                draw=ImageDraw.Draw(img)\n",
    "                draw.rectangle((x1,y1,x2,y2),outline=\"red\")\n",
    "                display(Imag(filename='result.png'))\n",
    "    img.save('result.png','PNG')\n",
    "    img.show()            \n",
    "    return img"
   ]
  },
  {
   "cell_type": "code",
   "execution_count": 147,
   "metadata": {},
   "outputs": [
    {
     "name": "stdout",
     "output_type": "stream",
     "text": [
      "/Users/Thenextbestthing/PycharmProjects/CPSC425/a2/facesfamily.jpg\n"
     ]
    },
    {
     "ename": "AttributeError",
     "evalue": "'str' object has no attribute 'open'",
     "output_type": "error",
     "traceback": [
      "\u001b[0;31m---------------------------------------------------------------------------\u001b[0m",
      "\u001b[0;31mAttributeError\u001b[0m                            Traceback (most recent call last)",
      "\u001b[0;32m<ipython-input-147-efe8ab3f4054>\u001b[0m in \u001b[0;36m<module>\u001b[0;34m()\u001b[0m\n\u001b[1;32m     12\u001b[0m     \u001b[0mimage\u001b[0m \u001b[0;34m=\u001b[0m \u001b[0mstr\u001b[0m\u001b[0;34m(\u001b[0m\u001b[0mos\u001b[0m\u001b[0;34m.\u001b[0m\u001b[0mgetcwd\u001b[0m\u001b[0;34m(\u001b[0m\u001b[0;34m)\u001b[0m\u001b[0;34m)\u001b[0m \u001b[0;34m+\u001b[0m\u001b[0mstr\u001b[0m\u001b[0;34m(\u001b[0m\u001b[0mimage\u001b[0m\u001b[0;34m)\u001b[0m\u001b[0;34m\u001b[0m\u001b[0m\n\u001b[1;32m     13\u001b[0m     \u001b[0;32mprint\u001b[0m \u001b[0mimage\u001b[0m\u001b[0;34m\u001b[0m\u001b[0m\n\u001b[0;32m---> 14\u001b[0;31m     \u001b[0mimage\u001b[0m \u001b[0;34m=\u001b[0m \u001b[0mimage\u001b[0m\u001b[0;34m.\u001b[0m\u001b[0mopen\u001b[0m\u001b[0;34m(\u001b[0m\u001b[0mimage\u001b[0m\u001b[0;34m)\u001b[0m\u001b[0;34m\u001b[0m\u001b[0m\n\u001b[0m\u001b[1;32m     15\u001b[0m     \u001b[0mpyramid\u001b[0m \u001b[0;34m=\u001b[0m \u001b[0mMakePyramid\u001b[0m\u001b[0;34m(\u001b[0m\u001b[0mimage\u001b[0m\u001b[0;34m,\u001b[0m \u001b[0;36m10\u001b[0m\u001b[0;34m)\u001b[0m\u001b[0;34m\u001b[0m\u001b[0m\n\u001b[1;32m     16\u001b[0m     \u001b[0;31m# Find all template matches in the pyramid with threshold.\u001b[0m\u001b[0;34m\u001b[0m\u001b[0;34m\u001b[0m\u001b[0m\n",
      "\u001b[0;31mAttributeError\u001b[0m: 'str' object has no attribute 'open'"
     ]
    }
   ],
   "source": [
    "allimages = ['family.jpg','fans.jpg','judybats.jpg','sports.jpg','students.jpg','tree.jpg',]\n",
    "os.chdir(\"..\")\n",
    "os.chdir(\"./faces/\")\n",
    "template = Image.open(\"./template.jpg\")\n",
    "# The correlation threshold for whether the spot is a face or not.\n",
    "threshold = 0.58\n",
    "\n",
    "# For each image find the template in it.\n",
    "for image in allimages:\n",
    "    # Need to make a pyramid of images so we can match the template at multiple\n",
    "    # zoom levels.\n",
    "    image = str(os.getcwd()) +str(image)\n",
    "    print image\n",
    "    image = image.open(image)\n",
    "    pyramid = MakePyramid(image, 10)\n",
    "    # Find all template matches in the pyramid with threshold.\n",
    "    result = FindTemplate(pyramid, template, threshold)\n",
    "    # Output the found faces to terminal.\n",
    "    print result\n",
    "\n",
    "os.chdir(\"..\")\n"
   ]
  },
  {
   "cell_type": "code",
   "execution_count": null,
   "metadata": {},
   "outputs": [],
   "source": []
  }
 ],
 "metadata": {
  "kernelspec": {
   "display_name": "Python (py27)",
   "language": "python",
   "name": "py27"
  },
  "language_info": {
   "codemirror_mode": {
    "name": "ipython",
    "version": 2
   },
   "file_extension": ".py",
   "mimetype": "text/x-python",
   "name": "python",
   "nbconvert_exporter": "python",
   "pygments_lexer": "ipython2",
   "version": "2.7.14"
  }
 },
 "nbformat": 4,
 "nbformat_minor": 1
}
